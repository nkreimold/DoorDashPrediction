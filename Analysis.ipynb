{
 "cells": [
  {
   "cell_type": "markdown",
   "metadata": {},
   "source": [
    "# DoorDash ML Exercise- Predicting Delivery Time"
   ]
  },
  {
   "cell_type": "markdown",
   "metadata": {},
   "source": [
    "DoorDash is very dependent on how accurate some of it's internal app data is- predictions of delivery time is very impactful on user experience and revenue spend. For this exercise, we will explore the interaction between order and customer information and the time it takes for an order to be delivered."
   ]
  },
  {
   "cell_type": "code",
   "execution_count": 165,
   "metadata": {},
   "outputs": [],
   "source": [
    "#import libraries\n",
    "import pandas as pd\n",
    "import numpy as np\n",
    "from datetime import datetime, timedelta\n",
    "import math as ma\n",
    "import scipy.stats as st\n",
    "import warnings\n",
    "import pickle\n",
    "warnings.filterwarnings('ignore')\n",
    "\n",
    "\n",
    "from sklearn.model_selection  import train_test_split\n",
    "from sklearn.model_selection import cross_val_score, KFold, GridSearchCV\n",
    "from sklearn.neighbors import KNeighborsClassifier \n",
    "from sklearn.preprocessing import StandardScaler\n",
    "from sklearn.linear_model import LinearRegression\n",
    "from sklearn.ensemble import RandomForestRegressor\n",
    "from sklearn import linear_model\n",
    "from sklearn.linear_model import ElasticNet\n",
    "from sklearn.ensemble import GradientBoostingRegressor\n",
    "\n",
    "\n",
    "from sklearn import metrics\n",
    "from sklearn.metrics import mean_squared_error,mean_absolute_error\n",
    "from sklearn.ensemble import BaggingClassifier,GradientBoostingRegressor\n",
    "from sklearn.experimental import enable_iterative_imputer\n",
    "from sklearn.impute import IterativeImputer\n",
    "#bagging\n",
    "from sklearn.tree import DecisionTreeClassifier\n",
    "\n",
    "# Import BaggingClassifier\n",
    "from sklearn.ensemble import BaggingRegressor\n",
    "\n",
    "%matplotlib inline\n",
    "import matplotlib.pyplot as plt\n",
    "import seaborn as sns \n",
    "import missingno as msno"
   ]
  },
  {
   "cell_type": "code",
   "execution_count": 166,
   "metadata": {},
   "outputs": [],
   "source": [
    "#import data\n",
    "train= pd.read_csv('historical_data.csv')\n",
    "test = pd.read_csv('predict_data.csv')\n",
    "#train=train.head(1000)\n",
    "#test=test.head(1000)"
   ]
  },
  {
   "cell_type": "code",
   "execution_count": 167,
   "metadata": {},
   "outputs": [
    {
     "name": "stdout",
     "output_type": "stream",
     "text": [
      "Train has 197428 observations and 9 variables\n",
      "Test has 54778 observations and 9 variables\n"
     ]
    }
   ],
   "source": [
    "print(\"Train has \"+str(train.shape[0])+\" observations and \"+str(train.shape[1])+\" variables\")\n",
    "print(\"Test has \"+str(test.shape[0])+\" observations and \"+str(test.shape[1])+\" variables\")"
   ]
  },
  {
   "cell_type": "code",
   "execution_count": 168,
   "metadata": {},
   "outputs": [
    {
     "data": {
      "text/html": [
       "<div>\n",
       "<style scoped>\n",
       "    .dataframe tbody tr th:only-of-type {\n",
       "        vertical-align: middle;\n",
       "    }\n",
       "\n",
       "    .dataframe tbody tr th {\n",
       "        vertical-align: top;\n",
       "    }\n",
       "\n",
       "    .dataframe thead th {\n",
       "        text-align: right;\n",
       "    }\n",
       "</style>\n",
       "<table border=\"1\" class=\"dataframe\">\n",
       "  <thead>\n",
       "    <tr style=\"text-align: right;\">\n",
       "      <th></th>\n",
       "      <th>market_id</th>\n",
       "      <th>created_at</th>\n",
       "      <th>actual_delivery_time</th>\n",
       "      <th>store_id</th>\n",
       "      <th>subtotal</th>\n",
       "      <th>total_onshift_dashers</th>\n",
       "      <th>total_busy_dashers</th>\n",
       "      <th>total_outstanding_orders</th>\n",
       "      <th>estimated_store_to_consumer_driving_duration</th>\n",
       "    </tr>\n",
       "  </thead>\n",
       "  <tbody>\n",
       "    <tr>\n",
       "      <th>0</th>\n",
       "      <td>1.0</td>\n",
       "      <td>2015-02-06 22:24:17</td>\n",
       "      <td>2015-02-06 23:27:16</td>\n",
       "      <td>1845</td>\n",
       "      <td>3441</td>\n",
       "      <td>33.0</td>\n",
       "      <td>14.0</td>\n",
       "      <td>21.0</td>\n",
       "      <td>861.0</td>\n",
       "    </tr>\n",
       "    <tr>\n",
       "      <th>1</th>\n",
       "      <td>2.0</td>\n",
       "      <td>2015-02-10 21:49:25</td>\n",
       "      <td>2015-02-10 22:56:29</td>\n",
       "      <td>5477</td>\n",
       "      <td>1900</td>\n",
       "      <td>1.0</td>\n",
       "      <td>2.0</td>\n",
       "      <td>2.0</td>\n",
       "      <td>690.0</td>\n",
       "    </tr>\n",
       "    <tr>\n",
       "      <th>2</th>\n",
       "      <td>3.0</td>\n",
       "      <td>2015-01-22 20:39:28</td>\n",
       "      <td>2015-01-22 21:09:09</td>\n",
       "      <td>5477</td>\n",
       "      <td>1900</td>\n",
       "      <td>1.0</td>\n",
       "      <td>0.0</td>\n",
       "      <td>0.0</td>\n",
       "      <td>690.0</td>\n",
       "    </tr>\n",
       "    <tr>\n",
       "      <th>3</th>\n",
       "      <td>3.0</td>\n",
       "      <td>2015-02-03 21:21:45</td>\n",
       "      <td>2015-02-03 22:13:00</td>\n",
       "      <td>5477</td>\n",
       "      <td>6900</td>\n",
       "      <td>1.0</td>\n",
       "      <td>1.0</td>\n",
       "      <td>2.0</td>\n",
       "      <td>289.0</td>\n",
       "    </tr>\n",
       "    <tr>\n",
       "      <th>4</th>\n",
       "      <td>3.0</td>\n",
       "      <td>2015-02-15 02:40:36</td>\n",
       "      <td>2015-02-15 03:20:26</td>\n",
       "      <td>5477</td>\n",
       "      <td>3900</td>\n",
       "      <td>6.0</td>\n",
       "      <td>6.0</td>\n",
       "      <td>9.0</td>\n",
       "      <td>650.0</td>\n",
       "    </tr>\n",
       "  </tbody>\n",
       "</table>\n",
       "</div>"
      ],
      "text/plain": [
       "   market_id           created_at actual_delivery_time  store_id  subtotal  \\\n",
       "0        1.0  2015-02-06 22:24:17  2015-02-06 23:27:16      1845      3441   \n",
       "1        2.0  2015-02-10 21:49:25  2015-02-10 22:56:29      5477      1900   \n",
       "2        3.0  2015-01-22 20:39:28  2015-01-22 21:09:09      5477      1900   \n",
       "3        3.0  2015-02-03 21:21:45  2015-02-03 22:13:00      5477      6900   \n",
       "4        3.0  2015-02-15 02:40:36  2015-02-15 03:20:26      5477      3900   \n",
       "\n",
       "   total_onshift_dashers  total_busy_dashers  total_outstanding_orders  \\\n",
       "0                   33.0                14.0                      21.0   \n",
       "1                    1.0                 2.0                       2.0   \n",
       "2                    1.0                 0.0                       0.0   \n",
       "3                    1.0                 1.0                       2.0   \n",
       "4                    6.0                 6.0                       9.0   \n",
       "\n",
       "   estimated_store_to_consumer_driving_duration  \n",
       "0                                         861.0  \n",
       "1                                         690.0  \n",
       "2                                         690.0  \n",
       "3                                         289.0  \n",
       "4                                         650.0  "
      ]
     },
     "execution_count": 168,
     "metadata": {},
     "output_type": "execute_result"
    }
   ],
   "source": [
    "train.head()"
   ]
  },
  {
   "cell_type": "code",
   "execution_count": 169,
   "metadata": {},
   "outputs": [
    {
     "data": {
      "text/html": [
       "<div>\n",
       "<style scoped>\n",
       "    .dataframe tbody tr th:only-of-type {\n",
       "        vertical-align: middle;\n",
       "    }\n",
       "\n",
       "    .dataframe tbody tr th {\n",
       "        vertical-align: top;\n",
       "    }\n",
       "\n",
       "    .dataframe thead th {\n",
       "        text-align: right;\n",
       "    }\n",
       "</style>\n",
       "<table border=\"1\" class=\"dataframe\">\n",
       "  <thead>\n",
       "    <tr style=\"text-align: right;\">\n",
       "      <th></th>\n",
       "      <th>market_id</th>\n",
       "      <th>created_at</th>\n",
       "      <th>store_id</th>\n",
       "      <th>subtotal</th>\n",
       "      <th>total_onshift_dashers</th>\n",
       "      <th>total_busy_dashers</th>\n",
       "      <th>total_outstanding_orders</th>\n",
       "      <th>estimated_store_to_consumer_driving_duration</th>\n",
       "      <th>delivery_id</th>\n",
       "    </tr>\n",
       "  </thead>\n",
       "  <tbody>\n",
       "    <tr>\n",
       "      <th>0</th>\n",
       "      <td>3.0</td>\n",
       "      <td>2015-02-25 02:22:30</td>\n",
       "      <td>5477</td>\n",
       "      <td>7500</td>\n",
       "      <td>4.0</td>\n",
       "      <td>4.0</td>\n",
       "      <td>4.0</td>\n",
       "      <td>670.0</td>\n",
       "      <td>194096</td>\n",
       "    </tr>\n",
       "    <tr>\n",
       "      <th>1</th>\n",
       "      <td>3.0</td>\n",
       "      <td>2015-02-25 01:14:19</td>\n",
       "      <td>5477</td>\n",
       "      <td>7100</td>\n",
       "      <td>4.0</td>\n",
       "      <td>1.0</td>\n",
       "      <td>1.0</td>\n",
       "      <td>446.0</td>\n",
       "      <td>236895</td>\n",
       "    </tr>\n",
       "    <tr>\n",
       "      <th>2</th>\n",
       "      <td>4.0</td>\n",
       "      <td>2015-02-22 02:27:44</td>\n",
       "      <td>5477</td>\n",
       "      <td>4500</td>\n",
       "      <td>9.0</td>\n",
       "      <td>7.0</td>\n",
       "      <td>6.0</td>\n",
       "      <td>504.0</td>\n",
       "      <td>190868</td>\n",
       "    </tr>\n",
       "    <tr>\n",
       "      <th>3</th>\n",
       "      <td>3.0</td>\n",
       "      <td>2015-02-25 01:32:39</td>\n",
       "      <td>5477</td>\n",
       "      <td>1700</td>\n",
       "      <td>3.0</td>\n",
       "      <td>3.0</td>\n",
       "      <td>3.0</td>\n",
       "      <td>687.0</td>\n",
       "      <td>183076</td>\n",
       "    </tr>\n",
       "    <tr>\n",
       "      <th>4</th>\n",
       "      <td>1.0</td>\n",
       "      <td>2015-02-24 05:20:45</td>\n",
       "      <td>2841</td>\n",
       "      <td>3150</td>\n",
       "      <td>4.0</td>\n",
       "      <td>4.0</td>\n",
       "      <td>4.0</td>\n",
       "      <td>528.0</td>\n",
       "      <td>186200</td>\n",
       "    </tr>\n",
       "  </tbody>\n",
       "</table>\n",
       "</div>"
      ],
      "text/plain": [
       "   market_id           created_at  store_id  subtotal  total_onshift_dashers  \\\n",
       "0        3.0  2015-02-25 02:22:30      5477      7500                    4.0   \n",
       "1        3.0  2015-02-25 01:14:19      5477      7100                    4.0   \n",
       "2        4.0  2015-02-22 02:27:44      5477      4500                    9.0   \n",
       "3        3.0  2015-02-25 01:32:39      5477      1700                    3.0   \n",
       "4        1.0  2015-02-24 05:20:45      2841      3150                    4.0   \n",
       "\n",
       "   total_busy_dashers  total_outstanding_orders  \\\n",
       "0                 4.0                       4.0   \n",
       "1                 1.0                       1.0   \n",
       "2                 7.0                       6.0   \n",
       "3                 3.0                       3.0   \n",
       "4                 4.0                       4.0   \n",
       "\n",
       "   estimated_store_to_consumer_driving_duration  delivery_id  \n",
       "0                                         670.0       194096  \n",
       "1                                         446.0       236895  \n",
       "2                                         504.0       190868  \n",
       "3                                         687.0       183076  \n",
       "4                                         528.0       186200  "
      ]
     },
     "execution_count": 169,
     "metadata": {},
     "output_type": "execute_result"
    }
   ],
   "source": [
    "test.head()"
   ]
  },
  {
   "cell_type": "code",
   "execution_count": 170,
   "metadata": {},
   "outputs": [
    {
     "name": "stdout",
     "output_type": "stream",
     "text": [
      "Train Min Time is 2014-10-19 05:24:15 and the max train time is 2015-02-18 06:00:44\n"
     ]
    }
   ],
   "source": [
    "print('Train Min Time is ' +str(min(train['created_at']))+ ' and the max train time is ' +str(max(train['created_at'])))"
   ]
  },
  {
   "cell_type": "code",
   "execution_count": 171,
   "metadata": {},
   "outputs": [
    {
     "name": "stdout",
     "output_type": "stream",
     "text": [
      "1\n",
      "Train Min Time is 2015-01-21 15:22:03 and the max train time is 2015-02-18 06:00:44\n"
     ]
    }
   ],
   "source": [
    "#there is only one observation from 2014 in train- let's drop that one\n",
    "print(train[pd.to_datetime(train.created_at).dt.year<2015].shape[0])\n",
    "train=train[pd.to_datetime(train.created_at).dt.year==2015]\n",
    "print('Train Min Time is ' +str(min(train['created_at']))+ ' and the max train time is ' +str(max(train['created_at'])))"
   ]
  },
  {
   "cell_type": "code",
   "execution_count": 172,
   "metadata": {},
   "outputs": [
    {
     "name": "stdout",
     "output_type": "stream",
     "text": [
      "Test Min Time is 2015-02-18 14:50:28 and the max test time is 2015-02-25 05:59:49\n"
     ]
    }
   ],
   "source": [
    "print('Test Min Time is ' +str(min(test['created_at']))+ ' and the max test time is ' +str(max(test['created_at'])))"
   ]
  },
  {
   "cell_type": "markdown",
   "metadata": {},
   "source": [
    "## Data Summary- How many missing values?\n",
    "Can we say they are missing at random and impute them?"
   ]
  },
  {
   "cell_type": "code",
   "execution_count": 173,
   "metadata": {},
   "outputs": [
    {
     "data": {
      "image/png": "[encoded data removed]",
      "text/plain": [
       "<Figure size 432x288 with 1 Axes>"
      ]
     },
     "metadata": {
      "needs_background": "light"
     },
     "output_type": "display_data"
    },
    {
     "data": {
      "image/png": "[encoded data removed]",
      "text/plain": [
       "<Figure size 432x288 with 1 Axes>"
      ]
     },
     "metadata": {
      "needs_background": "light"
     },
     "output_type": "display_data"
    }
   ],
   "source": [
    "#find percentage of missing values for each column\n",
    "missing_train = train.isnull().mean()*100\n",
    "#only look at with missing values because so many columns\n",
    "missing_train = missing_train[missing_train > 0]\n",
    "missing_train.plot.bar(title='Train Missing Values, %')\n",
    "plt.show()\n",
    "\n",
    "\n",
    "#find percentage of missing values for each column\n",
    "missing_test = test.isnull().mean()*100\n",
    "#only look at with missing values because so many columns\n",
    "missing_test = missing_test[missing_test > 0]\n",
    "missing_test.plot.bar(title='Test Missing Values, %')\n",
    "plt.show()\n",
    "\n"
   ]
  },
  {
   "cell_type": "markdown",
   "metadata": {},
   "source": [
    "Looks like the propotion is very similar for test and train datasets. As we see below, it looks like the missingness is random- in the matrix graph, missing values are pretty randomized and in the heatmap(only showing missing values), the only high correlations are the ones that are all NA at the same time- this is likely due to the fact that when one piece of order info is missing, all three elements are. Therefore, we can conclude the data is missing at random. This enables us to impute values with multivariate imputation, seen below."
   ]
  },
  {
   "cell_type": "code",
   "execution_count": 174,
   "metadata": {},
   "outputs": [
    {
     "data": {
      "image/png": "[encoded data removed]",
      "text/plain": [
       "<Figure size 1800x720 with 2 Axes>"
      ]
     },
     "metadata": {
      "needs_background": "light"
     },
     "output_type": "display_data"
    }
   ],
   "source": [
    "msno.matrix(train);"
   ]
  },
  {
   "cell_type": "code",
   "execution_count": 175,
   "metadata": {},
   "outputs": [
    {
     "data": {
      "image/png": "[encoded data removed]",
      "text/plain": [
       "<Figure size 1440x864 with 2 Axes>"
      ]
     },
     "metadata": {
      "needs_background": "light"
     },
     "output_type": "display_data"
    }
   ],
   "source": [
    "msno.heatmap(train, cmap='rainbow');"
   ]
  },
  {
   "cell_type": "markdown",
   "metadata": {},
   "source": [
    "### There are some missing values for market_id- let's match them up with store and see if a consensus will improve the missing count"
   ]
  },
  {
   "cell_type": "code",
   "execution_count": 176,
   "metadata": {},
   "outputs": [],
   "source": [
    "combinedDF=train[['market_id','store_id']].append(test[['market_id','store_id']])\n",
    "#for every store, let's match them with the most often labeled location for consistency\n",
    "uniquestores=[*combinedDF['store_id'].unique()]\n",
    "\n",
    "for s in uniquestores:\n",
    "    v=combinedDF[combinedDF.store_id==s].market_id.value_counts()\n",
    "    #update to most common location for that store\n",
    "    commonlocation=[*v.values]\n",
    "    if len(commonlocation)>0:\n",
    "        combinedDF.loc[combinedDF.store_id==s, 'market_id'] = [*v.index][0]\n",
    "    else:\n",
    "        combinedDF.loc[combinedDF.store_id==s, 'market_id'] = None\n",
    "combinedDF=combinedDF.drop_duplicates()"
   ]
  },
  {
   "cell_type": "markdown",
   "metadata": {},
   "source": [
    "## Preprocessing and Variable Creation"
   ]
  },
  {
   "cell_type": "code",
   "execution_count": 177,
   "metadata": {},
   "outputs": [],
   "source": [
    "#denote popular store by one that has had more than 100 visits in training period\n",
    "store_ids=[*train['store_id'].value_counts()[train['store_id'].value_counts()>100].index]\n",
    "\n",
    "def preprocess(df,combinedDF):\n",
    "    '''\n",
    "    Preprocess data and create some variables. Create target variable and also creates some variables based on the date column\n",
    "    Input: \n",
    "    df- dataframe, either train or test\n",
    "    combinedDF- dataframe with market_id to merge. This will fill in many missing values in this variable\n",
    "    \n",
    "    Output: processed dataframe\n",
    "    \n",
    "    '''\n",
    "    #also we can convert some columns to date time and create a few more date attributes\n",
    "\n",
    "    # Change daytime column to daytime object\n",
    "    df['created_at'] = pd.to_datetime(df['created_at'])\n",
    "    \n",
    "    #don't do this for test data\n",
    "    if 'actual_delivery_time' in [*df.columns]:\n",
    "        #we can drop NA from actual_delivery_time, because we can assume these delieveries didn't happen\n",
    "        df=df.dropna(subset=['actual_delivery_time'])\n",
    "\n",
    "\n",
    "        df['actual_delivery_time'] = pd.to_datetime(df['actual_delivery_time'])\n",
    "        df['Target'] = df['actual_delivery_time'] - df['created_at']\n",
    "        #we want this time in seconds\n",
    "        df['Target'] = df['Target'].dt.total_seconds()\n",
    "        \n",
    "        \n",
    "    #now we can create some variables for the creation time- note we won't do this for delivered time since this won't be in the test set\n",
    "    #add day of week and hour for created_at\n",
    "    weekdays=['Monday','Tuesday','Wednesday','Thursday','Friday','Saturday','Sunday']\n",
    "\n",
    "    df['day_of_week'] =df['created_at'].dt.dayofweek#day_name()\n",
    "    df['weekend'] =0\n",
    "\n",
    "    df['weekend'] =df.loc[df.day_of_week>=4, 'weekend'] = 1\n",
    "\n",
    "    df['month'] = df['created_at'].dt.month\n",
    "    df['hour'] = df['created_at'].dt.hour\n",
    "\n",
    "    df['Popular_Store']=0\n",
    "    df.loc[df.store_id.isin(store_ids), 'Popular_Store'] = 1\n",
    "    \n",
    "    #join with dataframe with correct location based on store id\n",
    "    \n",
    "    df=df.drop(columns=['market_id'])\n",
    "    df=df.merge(combinedDF,how='left',on='store_id')\n",
    "    \n",
    "    #also make is so that on shift dashers is always greater than or equal to busy dashers\n",
    "    #df['total_onshift_dashers']=df[[\"total_busy_dashers\", \"total_onshift_dashers\"]].max(axis=1)\n",
    "    \n",
    "    return(df)\n",
    "        \n",
    "train=preprocess(train,combinedDF).reset_index(drop=True)\n",
    "test=preprocess(test,combinedDF).reset_index(drop=True)\n"
   ]
  },
  {
   "cell_type": "code",
   "execution_count": 178,
   "metadata": {},
   "outputs": [
    {
     "data": {
      "text/plain": [
       "created_at                                          0\n",
       "actual_delivery_time                                0\n",
       "store_id                                            0\n",
       "subtotal                                            0\n",
       "total_onshift_dashers                           16261\n",
       "total_busy_dashers                              16261\n",
       "total_outstanding_orders                        16261\n",
       "estimated_store_to_consumer_driving_duration      526\n",
       "Target                                              0\n",
       "day_of_week                                         0\n",
       "weekend                                             0\n",
       "month                                               0\n",
       "hour                                                0\n",
       "Popular_Store                                       0\n",
       "market_id                                           2\n",
       "dtype: int64"
      ]
     },
     "execution_count": 178,
     "metadata": {},
     "output_type": "execute_result"
    }
   ],
   "source": [
    "#by combining the store id and market id, we greatly reduce the market_id NAs\n",
    "train.isnull().sum()"
   ]
  },
  {
   "cell_type": "markdown",
   "metadata": {},
   "source": [
    "## Multivariate Imputation\n",
    "\n",
    "- we will assume our data is missing at random\n",
    "    - for this, we can use iterative imputation\n",
    "    - a feature with nans is used as the target variable and all others are treated as features\n",
    "    - using the trained regressor, we can predict any missing values\n",
    "    - I will not use any variables not available in the testing set, i.e. the time to delivery\n",
    "    \n"
   ]
  },
  {
   "cell_type": "code",
   "execution_count": 179,
   "metadata": {},
   "outputs": [],
   "source": [
    "#remove some columns that don't exist in the other df- created_at is redundant with our created features\n",
    "def prepare_for_imputation(df):\n",
    "    train_impute=df.copy()\n",
    "    if 'actual_delivery_time' in [*train_impute.columns]:\n",
    "        droppedcols=['created_at','actual_delivery_time','Target']\n",
    "    else:\n",
    "        droppedcols=['created_at', 'delivery_id']\n",
    "\n",
    "\n",
    "    train_impute=train_impute.drop(columns=droppedcols)\n",
    "    return train_impute\n",
    "\n",
    "train_impute=prepare_for_imputation(train)\n",
    "test_impute=prepare_for_imputation(test)"
   ]
  },
  {
   "cell_type": "code",
   "execution_count": 180,
   "metadata": {},
   "outputs": [],
   "source": [
    "#we will use random forest regressor for imputation\n",
    "imputer = IterativeImputer(estimator = RandomForestRegressor(n_estimators=10), random_state=0)\n",
    "df_train_imp = imputer.fit_transform(train_impute)\n",
    "df_train_imp = pd.DataFrame(data=df_train_imp, columns = train_impute.columns).reset_index()\n",
    "\n",
    "df_test_imp=imputer.transform(test_impute)\n",
    "df_test_imp = pd.DataFrame(data=df_test_imp, columns = test_impute.columns)\n",
    "\n",
    "\n"
   ]
  },
  {
   "cell_type": "code",
   "execution_count": 181,
   "metadata": {},
   "outputs": [],
   "source": [
    "def add_back_cols(dforig,df):\n",
    "    \n",
    "    if 'actual_delivery_time' in [*dforig.columns]:\n",
    "        droppedcols=['created_at','actual_delivery_time','Target']\n",
    "    else:\n",
    "        droppedcols=['created_at', 'delivery_id']\n",
    "    for col in droppedcols:\n",
    "        df[col]=dforig[col]\n",
    "\n",
    "    \n",
    "    df['month'] =df['created_at'].dt.month_name()\n",
    "\n",
    "\n",
    "    df['day_of_week'] =df['created_at'].dt.day_name()\n",
    "    #df=pd.get_dummies(df, prefix=['weekday','month'])\n",
    "\n",
    "    #round any imputations of market_id to nearest integer- \n",
    "    #there can't be any in between numbers and if it's closest, then \n",
    "    #we will assume this is close enough to be the integer to be \n",
    "    #considered that market- this happens in relatively few instances,\n",
    "    #so it is not worth exploring other possibilities right now\n",
    "    df['market_id']=df['market_id'].round(0)\n",
    "    \n",
    "    df['dasher_info_missing'] = np.where(dforig.total_busy_dashers.isnull(), 0, 1)\n",
    "    \n",
    "    #also make it so that on shift dashers is always greater than or equal to busy dashers(and greater than 0)\n",
    "    #df['tmp']=1\n",
    "    #df['total_onshift_dashers']=df[[\"total_busy_dashers\",\"tmp\"]].max(axis=1)\n",
    "    #df=df.drop(columns=['tmp'])\n",
    "    #df['total_onshift_dashers']=df[[\"total_busy_dashers\", \"total_onshift_dashers\"]].max(axis=1)\n",
    "\n",
    "    return df\n",
    "\n",
    "train=add_back_cols(train,df_train_imp)\n",
    "test=add_back_cols(test,df_test_imp)"
   ]
  },
  {
   "cell_type": "markdown",
   "metadata": {},
   "source": [
    "Now we can see we successfully imputed all NAs and removed cases where delivery time was not available"
   ]
  },
  {
   "cell_type": "code",
   "execution_count": 182,
   "metadata": {},
   "outputs": [
    {
     "name": "stdout",
     "output_type": "stream",
     "text": [
      "index                                           0.0\n",
      "store_id                                        0.0\n",
      "subtotal                                        0.0\n",
      "total_onshift_dashers                           0.0\n",
      "total_busy_dashers                              0.0\n",
      "total_outstanding_orders                        0.0\n",
      "estimated_store_to_consumer_driving_duration    0.0\n",
      "day_of_week                                     0.0\n",
      "weekend                                         0.0\n",
      "month                                           0.0\n",
      "hour                                            0.0\n",
      "Popular_Store                                   0.0\n",
      "market_id                                       0.0\n",
      "created_at                                      0.0\n",
      "actual_delivery_time                            0.0\n",
      "Target                                          0.0\n",
      "dasher_info_missing                             0.0\n",
      "dtype: float64\n",
      "------------------------\n",
      "store_id                                        0.0\n",
      "subtotal                                        0.0\n",
      "total_onshift_dashers                           0.0\n",
      "total_busy_dashers                              0.0\n",
      "total_outstanding_orders                        0.0\n",
      "estimated_store_to_consumer_driving_duration    0.0\n",
      "day_of_week                                     0.0\n",
      "weekend                                         0.0\n",
      "month                                           0.0\n",
      "hour                                            0.0\n",
      "Popular_Store                                   0.0\n",
      "market_id                                       0.0\n",
      "created_at                                      0.0\n",
      "delivery_id                                     0.0\n",
      "dasher_info_missing                             0.0\n",
      "dtype: float64\n"
     ]
    }
   ],
   "source": [
    "print(train.isnull().mean()*100)\n",
    "print('------------------------')\n",
    "print(test.isnull().mean()*100)\n",
    "\n"
   ]
  },
  {
   "cell_type": "markdown",
   "metadata": {},
   "source": [
    "# Visualizations"
   ]
  },
  {
   "cell_type": "code",
   "execution_count": 183,
   "metadata": {},
   "outputs": [
    {
     "data": {
      "image/png": "[encoded data removed]",
      "text/plain": [
       "<Figure size 432x288 with 1 Axes>"
      ]
     },
     "metadata": {
      "needs_background": "light"
     },
     "output_type": "display_data"
    },
    {
     "data": {
      "image/png": "[encoded data removed]",
      "text/plain": [
       "<Figure size 432x288 with 1 Axes>"
      ]
     },
     "metadata": {
      "needs_background": "light"
     },
     "output_type": "display_data"
    },
    {
     "data": {
      "image/png": "[encoded data removed]",
      "text/plain": [
       "<Figure size 432x288 with 1 Axes>"
      ]
     },
     "metadata": {
      "needs_background": "light"
     },
     "output_type": "display_data"
    },
    {
     "data": {
      "image/png": "[encoded data removed]",
      "text/plain": [
       "<Figure size 432x288 with 1 Axes>"
      ]
     },
     "metadata": {
      "needs_background": "light"
     },
     "output_type": "display_data"
    },
    {
     "data": {
      "image/png": "[encoded data removed]",
      "text/plain": [
       "<Figure size 432x288 with 1 Axes>"
      ]
     },
     "metadata": {
      "needs_background": "light"
     },
     "output_type": "display_data"
    }
   ],
   "source": [
    "columns = ['market_id','store_id','day_of_week','month','hour']\n",
    "for i,col in enumerate(columns):\n",
    "    tmp = train[col].value_counts().to_frame().reset_index()\n",
    "    tmp.columns = [col,\"count\"]\n",
    "    plt.figure(i)\n",
    "    sns.barplot(tmp[col],tmp[\"count\"])\n",
    "    plt.xticks(rotation=45)"
   ]
  },
  {
   "cell_type": "code",
   "execution_count": 184,
   "metadata": {},
   "outputs": [
    {
     "data": {
      "text/html": [
       "<div>\n",
       "<style scoped>\n",
       "    .dataframe tbody tr th:only-of-type {\n",
       "        vertical-align: middle;\n",
       "    }\n",
       "\n",
       "    .dataframe tbody tr th {\n",
       "        vertical-align: top;\n",
       "    }\n",
       "\n",
       "    .dataframe thead th {\n",
       "        text-align: right;\n",
       "    }\n",
       "</style>\n",
       "<table border=\"1\" class=\"dataframe\">\n",
       "  <thead>\n",
       "    <tr style=\"text-align: right;\">\n",
       "      <th></th>\n",
       "      <th>index</th>\n",
       "      <th>store_id</th>\n",
       "      <th>subtotal</th>\n",
       "      <th>total_onshift_dashers</th>\n",
       "      <th>total_busy_dashers</th>\n",
       "      <th>total_outstanding_orders</th>\n",
       "      <th>estimated_store_to_consumer_driving_duration</th>\n",
       "      <th>weekend</th>\n",
       "      <th>hour</th>\n",
       "      <th>Popular_Store</th>\n",
       "      <th>market_id</th>\n",
       "      <th>Target</th>\n",
       "      <th>dasher_info_missing</th>\n",
       "    </tr>\n",
       "  </thead>\n",
       "  <tbody>\n",
       "    <tr>\n",
       "      <th>count</th>\n",
       "      <td>197420.000000</td>\n",
       "      <td>197420.000000</td>\n",
       "      <td>197420.000000</td>\n",
       "      <td>197420.000000</td>\n",
       "      <td>197420.000000</td>\n",
       "      <td>197420.000000</td>\n",
       "      <td>197420.000000</td>\n",
       "      <td>197420.0</td>\n",
       "      <td>197420.000000</td>\n",
       "      <td>197420.000000</td>\n",
       "      <td>197420.000000</td>\n",
       "      <td>197420.000000</td>\n",
       "      <td>197420.000000</td>\n",
       "    </tr>\n",
       "    <tr>\n",
       "      <th>mean</th>\n",
       "      <td>98709.500000</td>\n",
       "      <td>3530.581248</td>\n",
       "      <td>2682.331380</td>\n",
       "      <td>44.603929</td>\n",
       "      <td>41.479882</td>\n",
       "      <td>57.390045</td>\n",
       "      <td>545.324804</td>\n",
       "      <td>1.0</td>\n",
       "      <td>8.467379</td>\n",
       "      <td>0.427829</td>\n",
       "      <td>2.980043</td>\n",
       "      <td>2865.131294</td>\n",
       "      <td>0.917632</td>\n",
       "    </tr>\n",
       "    <tr>\n",
       "      <th>std</th>\n",
       "      <td>56990.389409</td>\n",
       "      <td>2053.498629</td>\n",
       "      <td>1823.109519</td>\n",
       "      <td>33.195308</td>\n",
       "      <td>31.056250</td>\n",
       "      <td>50.732115</td>\n",
       "      <td>219.118188</td>\n",
       "      <td>0.0</td>\n",
       "      <td>8.658799</td>\n",
       "      <td>0.494765</td>\n",
       "      <td>1.524280</td>\n",
       "      <td>1613.285907</td>\n",
       "      <td>0.274925</td>\n",
       "    </tr>\n",
       "    <tr>\n",
       "      <th>min</th>\n",
       "      <td>0.000000</td>\n",
       "      <td>1.000000</td>\n",
       "      <td>0.000000</td>\n",
       "      <td>-4.000000</td>\n",
       "      <td>-5.000000</td>\n",
       "      <td>-6.000000</td>\n",
       "      <td>0.000000</td>\n",
       "      <td>1.0</td>\n",
       "      <td>0.000000</td>\n",
       "      <td>0.000000</td>\n",
       "      <td>1.000000</td>\n",
       "      <td>101.000000</td>\n",
       "      <td>0.000000</td>\n",
       "    </tr>\n",
       "    <tr>\n",
       "      <th>25%</th>\n",
       "      <td>49354.750000</td>\n",
       "      <td>1686.000000</td>\n",
       "      <td>1400.000000</td>\n",
       "      <td>18.000000</td>\n",
       "      <td>16.000000</td>\n",
       "      <td>19.000000</td>\n",
       "      <td>383.000000</td>\n",
       "      <td>1.0</td>\n",
       "      <td>2.000000</td>\n",
       "      <td>0.000000</td>\n",
       "      <td>2.000000</td>\n",
       "      <td>2104.000000</td>\n",
       "      <td>1.000000</td>\n",
       "    </tr>\n",
       "    <tr>\n",
       "      <th>50%</th>\n",
       "      <td>98709.500000</td>\n",
       "      <td>3592.000000</td>\n",
       "      <td>2200.000000</td>\n",
       "      <td>38.200000</td>\n",
       "      <td>35.000000</td>\n",
       "      <td>43.000000</td>\n",
       "      <td>544.000000</td>\n",
       "      <td>1.0</td>\n",
       "      <td>3.000000</td>\n",
       "      <td>0.000000</td>\n",
       "      <td>3.000000</td>\n",
       "      <td>2660.000000</td>\n",
       "      <td>1.000000</td>\n",
       "    </tr>\n",
       "    <tr>\n",
       "      <th>75%</th>\n",
       "      <td>148064.250000</td>\n",
       "      <td>5299.000000</td>\n",
       "      <td>3395.000000</td>\n",
       "      <td>62.000000</td>\n",
       "      <td>60.000000</td>\n",
       "      <td>80.900000</td>\n",
       "      <td>702.000000</td>\n",
       "      <td>1.0</td>\n",
       "      <td>19.000000</td>\n",
       "      <td>1.000000</td>\n",
       "      <td>4.000000</td>\n",
       "      <td>3381.000000</td>\n",
       "      <td>1.000000</td>\n",
       "    </tr>\n",
       "    <tr>\n",
       "      <th>max</th>\n",
       "      <td>197419.000000</td>\n",
       "      <td>6987.000000</td>\n",
       "      <td>27100.000000</td>\n",
       "      <td>171.000000</td>\n",
       "      <td>154.000000</td>\n",
       "      <td>285.000000</td>\n",
       "      <td>2088.000000</td>\n",
       "      <td>1.0</td>\n",
       "      <td>23.000000</td>\n",
       "      <td>1.000000</td>\n",
       "      <td>6.000000</td>\n",
       "      <td>373879.000000</td>\n",
       "      <td>1.000000</td>\n",
       "    </tr>\n",
       "  </tbody>\n",
       "</table>\n",
       "</div>"
      ],
      "text/plain": [
       "               index       store_id       subtotal  total_onshift_dashers  \\\n",
       "count  197420.000000  197420.000000  197420.000000          197420.000000   \n",
       "mean    98709.500000    3530.581248    2682.331380              44.603929   \n",
       "std     56990.389409    2053.498629    1823.109519              33.195308   \n",
       "min         0.000000       1.000000       0.000000              -4.000000   \n",
       "25%     49354.750000    1686.000000    1400.000000              18.000000   \n",
       "50%     98709.500000    3592.000000    2200.000000              38.200000   \n",
       "75%    148064.250000    5299.000000    3395.000000              62.000000   \n",
       "max    197419.000000    6987.000000   27100.000000             171.000000   \n",
       "\n",
       "       total_busy_dashers  total_outstanding_orders  \\\n",
       "count       197420.000000             197420.000000   \n",
       "mean            41.479882                 57.390045   \n",
       "std             31.056250                 50.732115   \n",
       "min             -5.000000                 -6.000000   \n",
       "25%             16.000000                 19.000000   \n",
       "50%             35.000000                 43.000000   \n",
       "75%             60.000000                 80.900000   \n",
       "max            154.000000                285.000000   \n",
       "\n",
       "       estimated_store_to_consumer_driving_duration   weekend           hour  \\\n",
       "count                                 197420.000000  197420.0  197420.000000   \n",
       "mean                                     545.324804       1.0       8.467379   \n",
       "std                                      219.118188       0.0       8.658799   \n",
       "min                                        0.000000       1.0       0.000000   \n",
       "25%                                      383.000000       1.0       2.000000   \n",
       "50%                                      544.000000       1.0       3.000000   \n",
       "75%                                      702.000000       1.0      19.000000   \n",
       "max                                     2088.000000       1.0      23.000000   \n",
       "\n",
       "       Popular_Store      market_id         Target  dasher_info_missing  \n",
       "count  197420.000000  197420.000000  197420.000000        197420.000000  \n",
       "mean        0.427829       2.980043    2865.131294             0.917632  \n",
       "std         0.494765       1.524280    1613.285907             0.274925  \n",
       "min         0.000000       1.000000     101.000000             0.000000  \n",
       "25%         0.000000       2.000000    2104.000000             1.000000  \n",
       "50%         0.000000       3.000000    2660.000000             1.000000  \n",
       "75%         1.000000       4.000000    3381.000000             1.000000  \n",
       "max         1.000000       6.000000  373879.000000             1.000000  "
      ]
     },
     "execution_count": 184,
     "metadata": {},
     "output_type": "execute_result"
    }
   ],
   "source": [
    "train.describe()"
   ]
  },
  {
   "cell_type": "code",
   "execution_count": 185,
   "metadata": {},
   "outputs": [
    {
     "data": {
      "image/png": "[encoded data removed]",
      "text/plain": [
       "<Figure size 1440x1440 with 6 Axes>"
      ]
     },
     "metadata": {
      "needs_background": "light"
     },
     "output_type": "display_data"
    }
   ],
   "source": [
    "#check Numerical variables distribution\n",
    "Numerical_column = [ 'subtotal','total_onshift_dashers'\n",
    "                   ,'total_busy_dashers','total_outstanding_orders','estimated_store_to_consumer_driving_duration','Target']\n",
    "fig, axes = plt.subplots(2, 3, figsize=(20, 20))\n",
    "\n",
    "q=1\n",
    "\n",
    "for j in Numerical_column:\n",
    "    plt.subplot(2,3,q)\n",
    "    plt.hist((train[j]), bins = 50)\n",
    "    plt.title(j)\n",
    "    q+=1\n"
   ]
  },
  {
   "cell_type": "markdown",
   "metadata": {},
   "source": [
    "### Time Series- Let's look at total counts by date and Order Amount\n",
    "The order number and amount seem to follow the same trend, but target does not. Perhaps some larger orders or high volume days inflated this exponentially."
   ]
  },
  {
   "cell_type": "code",
   "execution_count": 186,
   "metadata": {},
   "outputs": [
    {
     "data": {
      "text/plain": [
       "(array([735647., 735648., 735649., 735650., 735651., 735652., 735653.,\n",
       "        735654.]),\n",
       " <a list of 8 Text major ticklabel objects>)"
      ]
     },
     "execution_count": 186,
     "metadata": {},
     "output_type": "execute_result"
    },
    {
     "data": {
      "image/png": "[encoded data removed]",
      "text/plain": [
       "<Figure size 1440x1440 with 6 Axes>"
      ]
     },
     "metadata": {
      "needs_background": "light"
     },
     "output_type": "display_data"
    }
   ],
   "source": [
    "fig, axes = plt.subplots(2, 3, figsize=(20, 20))\n",
    "df = train.groupby([train['created_at'].dt.date]).agg({'subtotal':'count'}).reset_index()\n",
    "\n",
    "plt.subplot(2,3,1)\n",
    "plt.plot(df['created_at'], df['subtotal'])\n",
    "\n",
    "plt.title('Train Quanitity of Orders By Date')\n",
    "plt.xticks(rotation=45)\n",
    "\n",
    "df = train.groupby([train['created_at'].dt.date]).agg({'subtotal':'sum'}).reset_index()\n",
    "\n",
    "plt.subplot(2,3,2)\n",
    "plt.plot(df['created_at'], df['subtotal'])\n",
    "\n",
    "plt.title('Train Order Amount By Date')\n",
    "plt.xticks(rotation=45)\n",
    "\n",
    "\n",
    "df = train.groupby([train['created_at'].dt.date]).agg({'Target':'mean'}).reset_index()\n",
    "\n",
    "plt.subplot(2,3,3)\n",
    "plt.plot(df['created_at'], df['Target']/60)\n",
    "\n",
    "plt.title('Train Average Order Delivery Time(minutes)')\n",
    "plt.xticks(rotation=45)\n",
    "\n",
    "\n",
    "\n",
    "\n",
    "df = train.groupby([test['created_at'].dt.date]).agg({'subtotal':'count'}).reset_index()\n",
    "\n",
    "plt.subplot(2,3,4)\n",
    "plt.plot(df['created_at'], df['subtotal'])\n",
    "\n",
    "plt.title('Test Quanitity of Orders By Date')\n",
    "plt.xticks(rotation=45)\n",
    "\n",
    "\n",
    "df = test.groupby([test['created_at'].dt.date]).agg({'subtotal':'sum'}).reset_index()\n",
    "\n",
    "plt.subplot(2,3,5)\n",
    "plt.plot(df['created_at'], df['subtotal'])\n",
    "\n",
    "plt.title('Test Order Amount By Date')\n",
    "plt.xticks(rotation=45)"
   ]
  },
  {
   "cell_type": "code",
   "execution_count": 187,
   "metadata": {},
   "outputs": [
    {
     "data": {
      "image/png": "[encoded data removed]",
      "text/plain": [
       "<Figure size 432x288 with 2 Axes>"
      ]
     },
     "metadata": {
      "needs_background": "light"
     },
     "output_type": "display_data"
    }
   ],
   "source": [
    "#correlation matrix\n",
    "corrMatrix = train.corr().round(2)\n",
    "\n",
    "# creating mask\n",
    "mask = np.triu(np.ones_like(corrMatrix))\n",
    " \n",
    "# plotting a triangle correlation heatmap\n",
    "sns.heatmap(corrMatrix, cmap=\"YlGnBu\", annot=True, mask=mask)\n",
    " \n",
    "# displaying heatmap\n",
    "plt.show()"
   ]
  },
  {
   "cell_type": "code",
   "execution_count": 188,
   "metadata": {},
   "outputs": [
    {
     "name": "stdout",
     "output_type": "stream",
     "text": [
      "1089\n"
     ]
    },
    {
     "data": {
      "text/plain": [
       "27"
      ]
     },
     "execution_count": 188,
     "metadata": {},
     "output_type": "execute_result"
    }
   ],
   "source": [
    "#there are a few orders with huge delivery times- let's cap at two hours\n",
    "print(sum((train['Target']/3600)>2))\n",
    "\n",
    "#also make sure orders take at least 10 minutes to deliver from order \n",
    "sum((train['Target']/60)<10)"
   ]
  },
  {
   "cell_type": "markdown",
   "metadata": {},
   "source": [
    "Based on above, let's fix some of the columns- less than 0 shouldn't be allowed\n",
    "Also there are some really long and short order times. However, there are enough that we don't want to remove them. This could highly bias the test set since there are plenty of them."
   ]
  },
  {
   "cell_type": "code",
   "execution_count": 189,
   "metadata": {},
   "outputs": [],
   "source": [
    "\n",
    "def fix_vars(df,store_ids):\n",
    "    cols=['total_onshift_dashers','total_busy_dashers','total_outstanding_orders']\n",
    "    for j in cols:\n",
    "        df[j].values[df[j] <0] = 0\n",
    "    return df\n",
    "\n",
    "train=fix_vars(train,store_ids)\n",
    "test=fix_vars(test,store_ids)"
   ]
  },
  {
   "cell_type": "markdown",
   "metadata": {},
   "source": [
    "If we plot the target by time, there are relatively similar distributions by day-\n",
    "no one day has all the large order times"
   ]
  },
  {
   "cell_type": "code",
   "execution_count": 190,
   "metadata": {},
   "outputs": [
    {
     "data": {
      "text/plain": [
       "<matplotlib.axes._subplots.AxesSubplot at 0x7fde19529850>"
      ]
     },
     "execution_count": 190,
     "metadata": {},
     "output_type": "execute_result"
    },
    {
     "data": {
      "image/png": "[encoded data removed]",
      "text/plain": [
       "<Figure size 1440x720 with 1 Axes>"
      ]
     },
     "metadata": {
      "needs_background": "light"
     },
     "output_type": "display_data"
    }
   ],
   "source": [
    "train.groupby([train[\"created_at\"]]).mean()[['Target']].plot(legend=True, figsize=(20,10))"
   ]
  },
  {
   "cell_type": "markdown",
   "metadata": {},
   "source": [
    "Hour is also relatively even- with a bit of a bump right before the dinner rush"
   ]
  },
  {
   "cell_type": "code",
   "execution_count": 191,
   "metadata": {},
   "outputs": [
    {
     "data": {
      "text/plain": [
       "<matplotlib.axes._subplots.AxesSubplot at 0x7fde749faad0>"
      ]
     },
     "execution_count": 191,
     "metadata": {},
     "output_type": "execute_result"
    },
    {
     "data": {
      "image/png": "[encoded data removed]",
      "text/plain": [
       "<Figure size 1440x720 with 1 Axes>"
      ]
     },
     "metadata": {
      "needs_background": "light"
     },
     "output_type": "display_data"
    }
   ],
   "source": [
    "#look at hour and delivery time associated with it\n",
    "train.groupby([\"hour\"]).mean()[['Target']].plot.bar(legend=True, figsize=(20,10))"
   ]
  },
  {
   "cell_type": "markdown",
   "metadata": {},
   "source": [
    "There is some variation if we look at order by market and hour, but this may be due to sample size and dynamics of each market(i.e. maybe late night is more prevalent with market 1). No one market dominates accross all time indicies so we won't do any more here."
   ]
  },
  {
   "cell_type": "code",
   "execution_count": 192,
   "metadata": {},
   "outputs": [
    {
     "data": {
      "text/plain": [
       "<matplotlib.axes._subplots.AxesSubplot at 0x7fe114d62cd0>"
      ]
     },
     "execution_count": 192,
     "metadata": {},
     "output_type": "execute_result"
    },
    {
     "data": {
      "image/png": "[encoded data removed]",
      "text/plain": [
       "<Figure size 1440x720 with 1 Axes>"
      ]
     },
     "metadata": {
      "needs_background": "light"
     },
     "output_type": "display_data"
    }
   ],
   "source": [
    "train.groupby([\"hour\",'market_id']).mean()[['Target']].unstack('market_id').plot.bar(legend=True, figsize=(20,10))"
   ]
  },
  {
   "cell_type": "markdown",
   "metadata": {},
   "source": [
    "Finally we will look at how some metrics vary with the target variable in a scatter plot. It seems like most high order times occur when there are very few on shift drivers. Also high order times when most or all of available dashers are picking up an order. There are also a few outliers- mostly at 8am- maybe this is when stores are closed?\n"
   ]
  },
  {
   "cell_type": "code",
   "execution_count": 199,
   "metadata": {},
   "outputs": [
    {
     "data": {
      "text/plain": [
       "Text(0, 0.5, 'Order Time (sec)')"
      ]
     },
     "execution_count": 199,
     "metadata": {},
     "output_type": "execute_result"
    },
    {
     "data": {
      "image/png": "[encoded data removed]",
      "text/plain": [
       "<Figure size 1440x1440 with 6 Axes>"
      ]
     },
     "metadata": {
      "needs_background": "light"
     },
     "output_type": "display_data"
    }
   ],
   "source": [
    "columns = [ 'subtotal','total_onshift_dashers'\n",
    "                   ,'total_busy_dashers','total_outstanding_orders','estimated_store_to_consumer_driving_duration']\n",
    "\n",
    "fig, axes = plt.subplots(2, 3, figsize=(20, 20))\n",
    "q=1\n",
    "for col in (columns):\n",
    "    plt.subplot(2,3,q)\n",
    "    plt.scatter(train[col],train['Target'])\n",
    "    #plt.plot(train[col],train['Target'])\n",
    "    plt.xlabel(col)\n",
    "    plt.ylabel('Order Time (sec)')\n",
    "    q=q+1\n",
    "\n",
    "plt.subplot(2,3,q)\n",
    "plt.scatter(train['total_busy_dashers']/train['total_onshift_dashers'],train['Target'])\n",
    "plt.xlabel('% Busy Dashers')\n",
    "plt.ylabel('Order Time (sec)')\n"
   ]
  },
  {
   "cell_type": "markdown",
   "metadata": {},
   "source": [
    "We can remove those two extreme points and replot. We will do this below after we create a few new features. "
   ]
  },
  {
   "cell_type": "code",
   "execution_count": 194,
   "metadata": {},
   "outputs": [],
   "source": [
    "train=train[train['Target']<150000]"
   ]
  },
  {
   "cell_type": "markdown",
   "metadata": {},
   "source": [
    "### Let's Look at Some Transformations\n",
    "- maybe Log transformation could be helpful(first 4 graphs)"
   ]
  },
  {
   "cell_type": "code",
   "execution_count": 197,
   "metadata": {},
   "outputs": [
    {
     "data": {
      "image/png": "[encoded data removed]",
      "text/plain": [
       "<Figure size 1440x1440 with 6 Axes>"
      ]
     },
     "metadata": {
      "needs_background": "light"
     },
     "output_type": "display_data"
    }
   ],
   "source": [
    "#check Numerical variables distribution\n",
    "Numerical_column = [ 'subtotal','total_onshift_dashers'\n",
    "                   ,'total_busy_dashers','total_outstanding_orders','estimated_store_to_consumer_driving_duration','Target']\n",
    "fig, axes = plt.subplots(2, 3, figsize=(20, 20))\n",
    "\n",
    "q=1\n",
    "\n",
    "for j in Numerical_column:\n",
    "    plt.subplot(2,3,q)\n",
    "    v=train[j]\n",
    "    if q<=4:\n",
    "        v=np.log1p(v)\n",
    "    plt.hist(v, bins = 50)\n",
    "    plt.title(j)\n",
    "    q+=1"
   ]
  },
  {
   "cell_type": "markdown",
   "metadata": {},
   "source": [
    "If we look at the number disribution of the Target variable over three hours, there are still quite a few instances, so we cannot simply drop all of them."
   ]
  },
  {
   "cell_type": "code",
   "execution_count": 196,
   "metadata": {},
   "outputs": [
    {
     "data": {
      "image/png": "[encoded data removed]",
      "text/plain": [
       "<Figure size 432x288 with 1 Axes>"
      ]
     },
     "metadata": {
      "needs_background": "light"
     },
     "output_type": "display_data"
    }
   ],
   "source": [
    "plt.hist(train.Target[train.Target>=(3*3600)],bins=50)\n",
    "plt.show()"
   ]
  },
  {
   "cell_type": "markdown",
   "metadata": {},
   "source": [
    "## Final Transformations"
   ]
  },
  {
   "cell_type": "markdown",
   "metadata": {},
   "source": [
    "- sums for last 15 minutes and hour: order totals and orders received by market\n",
    "- outstanding orders per dasher could be predictive in that it will tell us how many orders would need to be completed by dasher to finish all orders- analagous to how busy we are\n",
    "- busy dashers- ratio of busy to all dashers currently"
   ]
  },
  {
   "cell_type": "code",
   "execution_count": null,
   "metadata": {},
   "outputs": [],
   "source": [
    "from IPython.display import clear_output\n",
    "from multiprocessing import Process\n",
    "\n",
    "def order_metrics(df):\n",
    "    df['orderslasthr']=0\n",
    "    df['orderslast15min']=0\n",
    "    df['orderslast30min']=0\n",
    "    df['orderslast45min']=0\n",
    "\n",
    "\n",
    "    df['subtotallast15']=0\n",
    "    df['subtotallast30']=0\n",
    "    df['subtotallast45']=0\n",
    "    df['subtotallasthr']=0\n",
    "    \n",
    "    #orders in last 15 minutes & hour\n",
    "    for j in range(len(df)):\n",
    "        clear_output(wait=True)\n",
    "\n",
    "\n",
    "        print(j)\n",
    "        print(len(df))\n",
    "        time1=pd.to_datetime(df.created_at[j])\n",
    "        hourago=pd.to_datetime(df.created_at[j]) + pd.Timedelta(hours=-1)\n",
    "        minutesago15=pd.to_datetime(df.created_at[j]) + pd.Timedelta(minutes=-15)\n",
    "        minutesago30=pd.to_datetime(df.created_at[j]) + pd.Timedelta(minutes=-30)\n",
    "        minutesago45=pd.to_datetime(df.created_at[j]) + pd.Timedelta(minutes=-45)\n",
    "\n",
    "\n",
    "\n",
    "        #also group by market\n",
    "        \n",
    "        sumorders60=sum((pd.to_datetime(df.created_at)<=time1)&(pd.to_datetime(df.created_at)>hourago)&(df.market_id==df.market_id[j]))\n",
    "        sumorders45=sum((pd.to_datetime(df.created_at)<=time1)&(pd.to_datetime(df.created_at)>minutesago45)&(df.market_id==df.market_id[j]))\n",
    "        sumorders30=sum((pd.to_datetime(df.created_at)<=time1)&(pd.to_datetime(df.created_at)>minutesago30)&(df.market_id==df.market_id[j]))\n",
    "        sumorders15=sum((pd.to_datetime(df.created_at)<=time1)&(pd.to_datetime(df.created_at)>minutesago15)&(df.market_id==df.market_id[j]))\n",
    "        \n",
    "        sum15=df.subtotal[((pd.to_datetime(df.created_at)<=time1)&(pd.to_datetime(df.created_at)>minutesago15)&(df.market_id==df.market_id[j]))]\n",
    "        sum15=sum(sum15.values)\n",
    "        sum30=df.subtotal[((pd.to_datetime(df.created_at)<=time1)&(pd.to_datetime(df.created_at)>minutesago30)&(df.market_id==df.market_id[j]))]\n",
    "        sum30=sum(sum30.values)\n",
    "        sum45=df.subtotal[((pd.to_datetime(df.created_at)<=time1)&(pd.to_datetime(df.created_at)>minutesago45)&(df.market_id==df.market_id[j]))]\n",
    "        sum45=sum(sum45.values)\n",
    "        \n",
    "        sum60=df.subtotal[((pd.to_datetime(df.created_at)<=time1)&(pd.to_datetime(df.created_at)>hourago)&(df.market_id==df.market_id[j]))]\n",
    "        sum60=sum(sum60.values)\n",
    "\n",
    "        \n",
    "        df['orderslasthr'][j]=sumorders60\n",
    "        df['orderslast15min'][j]=sumorders15\n",
    "        df['orderslast30min'][j]=sumorders30\n",
    "        df['orderslast45min'][j]=sumorders45\n",
    "\n",
    "\n",
    "        df['subtotallast15'][j]=sum15\n",
    "        df['subtotallast30'][j]=sum30\n",
    "        df['subtotallast45'][j]=sum45\n",
    "        df['subtotallasthr'][j]=sum60\n",
    "\n",
    "\n",
    "\n",
    "    df['dashers_working']=df['total_onshift_dashers']+df['total_busy_dashers']\n",
    "\n",
    "    df['dashers_orderratio']=(df['total_onshift_dashers'])/df['total_outstanding_orders']\n",
    "    df['busydashers']=df['total_busy_dashers']/(df['dashers_working'])\n",
    "    df['availdashers_last15ordersratio']=(df['total_onshift_dashers'])/df['orderslast15min']\n",
    "    df['availdashers_last30ordersratio']=(df['total_onshift_dashers'])/df['orderslast30min']\n",
    "    df['availdashers_last45ordersratio']=(df['total_onshift_dashers'])/df['orderslast45min']\n",
    "    df['availdashers_lasthrordersratio']=(df['total_onshift_dashers'])/df['orderslasthr']\n",
    "    df.to_pickle('temp.pickle')\n",
    "\n",
    "    return df\n",
    "#train=order_metrics(train)\n",
    "#test=order_metrics(test)\n",
    "p1 = Process(target=order_metrics(train))\n",
    "train=pd.read_pickle('temp.pickle')\n",
    "\n",
    "p1 = Process(target=order_metrics(test))\n",
    "test=pd.read_pickle('temp.pickle')"
   ]
  },
  {
   "cell_type": "code",
   "execution_count": 147,
   "metadata": {},
   "outputs": [
    {
     "name": "stdout",
     "output_type": "stream",
     "text": [
      "99\n",
      "100\n"
     ]
    }
   ],
   "source": [
    "train.head()\n",
    "train.isnull().sum()\n"
   ]
  },
  {
   "cell_type": "code",
   "execution_count": null,
   "metadata": {},
   "outputs": [],
   "source": []
  },
  {
   "cell_type": "markdown",
   "metadata": {},
   "source": [
    "### Replot after Outlier Removal\n",
    "After removing those two target outliers, it looks much better, there are some relationships between some variables and the amount of time it takes an order to be delivered."
   ]
  },
  {
   "cell_type": "code",
   "execution_count": null,
   "metadata": {},
   "outputs": [],
   "source": [
    "columns = [ 'subtotal','total_onshift_dashers'\n",
    "                   ,'total_busy_dashers','total_outstanding_orders','estimated_store_to_consumer_driving_duration',\n",
    "          'orderslasthr','orderslast15min','subtotallast15','subtotallasthr',\n",
    "          'outstanding_orders_per_dasher','busydashers','availdashers_last15ordersratio','availdashers_last30ordersratio'\n",
    "           ,'availdashers_last45ordersratio','availdashers_lasthrordersratio']\n",
    "\n",
    "fig, axes = plt.subplots(5, 3, figsize=(20, 20))\n",
    "q=1\n",
    "for col in (columns):\n",
    "    plt.subplot(2,3,q)\n",
    "    plt.scatter(train[col],train['Target'])\n",
    "    #plt.plot(train[col],train['Target'])\n",
    "    plt.xlabel(col)\n",
    "    plt.ylabel('Order Time (sec)')\n",
    "    q=q+1"
   ]
  },
  {
   "cell_type": "markdown",
   "metadata": {},
   "source": [
    "### Additional Things to compute:\n",
    "\n",
    "A few binned and dummy variables to compute:\n",
    "- hour need to be binned instead of treated as numeric since the difference between 1 and 2am doesn't mean the same as 7 to 8pm \n",
    "- also can do this for subtotal\n",
    "- create dummy variables for categorical variables"
   ]
  },
  {
   "cell_type": "code",
   "execution_count": null,
   "metadata": {},
   "outputs": [],
   "source": [
    "def Final_Transform(df):\n",
    "    cols=[ 'subtotal','total_onshift_dashers'\n",
    "                   ,'total_busy_dashers','total_outstanding_orders']\n",
    "\n",
    "    \n",
    "    #for j in cols:\n",
    "        #df[j]=np.log1p(df[j])\n",
    "        \n",
    "    \n",
    "    df['market_id']=df['market_id'].astype(\"category\")\n",
    "    \n",
    "    create_hr_bin = ['10pm-1am','2am-7am', '8am','9am-5pm','6pm-9pm', '101pm-1am']\n",
    "    df['hour_binned'] = pd.cut(df['hour'],[0,1,7,8,17,21,23],labels=create_hr_bin)\n",
    "    df.loc[df['hour_binned']=='101pm-1am','hour_binned']='10pm-1am'\n",
    "\n",
    "    create_hr_bin = ['under10','10-30', '30-50', '50more']\n",
    "    df['subtotalbinned'] = pd.cut(df['hour'],[0,1000,3000,5000,100000000000],labels=create_hr_bin)\n",
    "\n",
    "\n",
    "    df['weekend']=df['weekend'].astype(\"category\")\n",
    "\n",
    "\n",
    "    df=pd.get_dummies(df)\n",
    "    df=df.drop(columns=[\"hour_binned_101pm-1am\"])\n",
    "    \n",
    "    return df\n",
    "\n",
    "train=Final_Transform(train)\n",
    "test=Final_Transform(test)"
   ]
  },
  {
   "cell_type": "code",
   "execution_count": 203,
   "metadata": {},
   "outputs": [
    {
     "data": {
      "text/plain": [
       "Index(['index', 'store_id', 'subtotal', 'total_onshift_dashers',\n",
       "       'total_busy_dashers', 'total_outstanding_orders',\n",
       "       'estimated_store_to_consumer_driving_duration', 'day_of_week',\n",
       "       'weekend', 'month', 'hour', 'Popular_Store', 'market_id', 'created_at',\n",
       "       'actual_delivery_time', 'Target', 'dasher_info_missing'],\n",
       "      dtype='object')"
      ]
     },
     "execution_count": 203,
     "metadata": {},
     "output_type": "execute_result"
    }
   ],
   "source": [
    "train.columns"
   ]
  },
  {
   "cell_type": "code",
   "execution_count": 204,
   "metadata": {},
   "outputs": [],
   "source": [
    "train.to_pickle('train.pickle')\n",
    "test.to_pickle('test.pickle')"
   ]
  },
  {
   "cell_type": "markdown",
   "metadata": {},
   "source": [
    "# Modeling\n",
    "I will split by date instead of random so because the test set is a completely different set of date values. This will ensure that the holdout set mimics what my performance will be. "
   ]
  },
  {
   "cell_type": "code",
   "execution_count": null,
   "metadata": {},
   "outputs": [],
   "source": [
    "train = pd.read_pickle('train.pickle')\n",
    "test = pd.read_pickle('test.pickle')"
   ]
  },
  {
   "cell_type": "code",
   "execution_count": null,
   "metadata": {},
   "outputs": [],
   "source": [
    "droppedcols=['index','hour','store_id','created_at','actual_delivery_time']\n",
    "\n",
    "df_train=train.sort_values('created_at').copy()\n",
    "\n",
    "df_train=df_train.drop(columns=droppedcols)\n",
    "\n",
    "df_test=test.sort_values('created_at').copy()\n",
    "\n",
    "\n",
    "train_set, test_set= np.split(df_train, [int(.8 *len(df_train))])\n",
    "#less than two hours\n",
    "#train_set = train_set[train_set['Target']<=(2*3600)]\n",
    "#train_set = train_set[train_set['Target']>=(10*60)]\n",
    "        \n",
    "y_train2 = train_set['Target']\n",
    "y_holdout2 = test_set['Target']\n",
    "\n",
    "X_train2=train_set.drop(columns=['Target'])\n",
    "X_holdout2=test_set.drop(columns=['Target'])\n",
    "\n",
    "size=.9\n",
    "X_train, X_test2, y_train, y_test2 = train_test_split(X_train2, y_train2, test_size=size,random_state=109)  \n",
    "X_holdout, X_test22, y_holdout, y_test22 = train_test_split(X_holdout2, y_holdout2, test_size=size,random_state=109)  \n",
    "#y_train=y_train2\n",
    "#y_holdout=y_holdout2\n",
    "#X_train=X_train2\n",
    "#X_holdout=X_holdout2\n",
    "\n",
    "\n",
    "\n",
    "\n",
    "# Finding Common columns\n",
    "commoncols=[*np.intersect1d(X_train.columns, test.columns)]\n",
    "X_test=df_test[commoncols]\n",
    "\n",
    "#replicate columns if not in test\n",
    "i1 = X_train.columns\n",
    "i2 = X_test.columns\n",
    "col=i1[~i1.isin(i2)]\n",
    "for j in col:\n",
    "    X_test[j]=0\n",
    "    \n",
    "#X_test['month_January']=0\n",
    "X_test=X_test[X_train.columns]\n",
    "cols=X_train.columns\n",
    "scale = StandardScaler()\n",
    "X_train = scale.fit_transform(X_train)\n",
    "X_holdout = scale.transform(X_holdout)\n",
    "X_test = scale.transform(X_test)\n",
    "\n",
    "\n",
    "X_train=pd.DataFrame(X_train)\n",
    "X_train.columns=cols\n",
    "X_holdout=pd.DataFrame(X_holdout)\n",
    "X_holdout.columns=cols\n",
    "X_test=pd.DataFrame(X_test)\n",
    "X_test.columns=cols\n",
    "\n",
    "\n",
    "# Split into training and test set\n",
    "#X_train, X_test, y_train, y_test = train_test_split(X, y, test_size = 0.2, random_state=42)\n",
    "#sum(test_set['Target']>=(9*60*60))"
   ]
  },
  {
   "cell_type": "markdown",
   "metadata": {},
   "source": [
    "### Define Some Error functions\n",
    "These will return error metrics such as mean absolute error and mean squared error while also fitting a model we input"
   ]
  },
  {
   "cell_type": "code",
   "execution_count": null,
   "metadata": {},
   "outputs": [],
   "source": [
    "#performance functions \n",
    "def mape(actual, pred): \n",
    "    actual, pred = np.array(actual), np.array(pred)\n",
    "    return np.mean(np.abs((actual - pred) / actual)) * 100\n",
    "\n",
    "def error(actual,forecast,name):\n",
    "    \n",
    "    return pd.DataFrame({'MAE':[mean_absolute_error(actual, forecast).round(2)],'MAPE': [mape(actual,forecast).round(2)],'RMSE': [np.sqrt(mean_squared_error(actual,forecast)).round(2)]},index=pd.Series([name]))\n",
    "\n",
    "def model_fit(model):\n",
    "    # Fit it to the training data\n",
    "    model.fit(X_train, y_train)\n",
    "\n",
    "    # Predict the labels for the training data X: y_pred\n",
    "    y_train_pred = model.predict(X_train)\n",
    "\n",
    "    # Predict and print the label for the new data point X_new\n",
    "    y_holdout_pred = model.predict(X_holdout)\n",
    "\n",
    "    print(error(y_train, y_train_pred,'Train'))\n",
    "    print(error(y_holdout, y_holdout_pred,'Holdout'))\n",
    "    return np.sqrt(mean_squared_error(y_holdout,y_holdout_pred)).round(2)"
   ]
  },
  {
   "cell_type": "markdown",
   "metadata": {},
   "source": [
    "### Model Fitting"
   ]
  },
  {
   "cell_type": "code",
   "execution_count": null,
   "metadata": {},
   "outputs": [],
   "source": [
    "# Create Linear Regression\n",
    "model = LinearRegression()\n",
    "\n",
    "model_fit(model)"
   ]
  },
  {
   "cell_type": "code",
   "execution_count": null,
   "metadata": {},
   "outputs": [],
   "source": [
    "#lasso regression\n",
    "model = linear_model.Lasso(alpha=0.1)\n",
    "\n",
    "model_fit(model)"
   ]
  },
  {
   "cell_type": "code",
   "execution_count": null,
   "metadata": {},
   "outputs": [],
   "source": [
    "#Elastic Net\n",
    "# Create the hyperparameter grid\n",
    "l1_space = np.linspace(0, 1, 30)\n",
    "param_grid = {'l1_ratio': l1_space}\n",
    "\n",
    "# Instantiate the ElasticNet regressor: elastic_net(parameter from grid search)\n",
    "model = ElasticNet(l1_ratio=0.89655)\n",
    "\n",
    "# Setup the GridSearchCV object: gm_cv\n",
    "#model = GridSearchCV(elastic_net, param_grid, cv=5)\n",
    "#model.best_params_\n",
    "\n",
    "model_fit(model)"
   ]
  },
  {
   "cell_type": "code",
   "execution_count": null,
   "metadata": {},
   "outputs": [],
   "source": [
    "# Random Forest\n",
    "model=RandomForestRegressor(n_estimators = 1000, \n",
    "                                #max_depth=max_depth,\n",
    "                                max_features='sqrt',random_state = 0)\n",
    "model_fit(model)\n",
    "model"
   ]
  },
  {
   "cell_type": "code",
   "execution_count": null,
   "metadata": {},
   "outputs": [],
   "source": [
    "features=15\n",
    "important=np.argsort(np.abs(model.feature_importances_)).ravel()\n",
    "\n",
    "plt.barh(range(features), model.feature_importances_.ravel()[important[-features:]])\n",
    "plt.yticks(range(features), X_train.columns[important[-features:]]);\n",
    "#X_train"
   ]
  },
  {
   "cell_type": "code",
   "execution_count": null,
   "metadata": {},
   "outputs": [],
   "source": [
    "model=GradientBoostingRegressor( verbose=False,random_state=126)  \n",
    "model_fit(model)\n",
    "\n",
    "model"
   ]
  },
  {
   "cell_type": "code",
   "execution_count": null,
   "metadata": {},
   "outputs": [],
   "source": [
    "# Instantiate dt\n",
    "dt = RandomForestRegressor(n_estimators = 1000, \n",
    "                                #max_depth=max_depth,\n",
    "                                max_features='sqrt',random_state = 0)\n",
    "\n",
    "\n",
    "# Instantiate bc\n",
    "bc = BaggingRegressor(base_estimator=dt, n_estimators=1000, random_state=1)\n",
    "model_fit(model)"
   ]
  },
  {
   "cell_type": "markdown",
   "metadata": {},
   "source": [
    "### model is overfitting, I will try to change these:\n",
    "- n_estimators: The more trees, the less likely the algorithm is to overfit. The lower this number, the closer the model is to a decision tree, with a restricted feature set.\n",
    "- max_features: This defines how many features each tree is randomly assigned. \n",
    "- max_depth: This parameter will reduce the complexity of the learned models, lowering over fitting risk. \n",
    "- min_samples_leaf: This has a similar effect to the max_depth parameter, it means the branch will stop splitting once the leaves have that number of samples each.\n",
    "\n"
   ]
  },
  {
   "cell_type": "code",
   "execution_count": null,
   "metadata": {},
   "outputs": [],
   "source": [
    "rmse=1000000\n",
    "for max_features in ['auto','sqrt',4]:\n",
    "    for min_samples_leaf in [1,2,3, 4]:\n",
    "        for min_samples_split in [2,4,6]:\n",
    "            for max_depth in [None,4,8,12]:\n",
    "                    model=RandomForestRegressor(n_estimators = 1000, \n",
    "                                    max_features=max_features,\n",
    "                                    min_samples_leaf=min_samples_leaf,\n",
    "                                    min_samples_split=min_samples_split,\n",
    "                                    bootstrap=bootstrap,random_state = 0)\n",
    "                    f={\"max_features\":max_features,\"min_samples_leaf\":min_samples_leaf,\n",
    "                              \"min_samples_split\":min_samples_split,\n",
    "                      'max_depth':max_depth}\n",
    "                    print(f)\n",
    "                    m=model_fit(model)\n",
    "                    if m<rmse:\n",
    "                        rmse=m\n",
    "                        features=f\n",
    "                "
   ]
  },
  {
   "cell_type": "code",
   "execution_count": null,
   "metadata": {},
   "outputs": [],
   "source": [
    "# Let's do Random Forest Grid Search\n",
    "\n",
    "model_grid=RandomForestRegressor( random_state = 0)\n",
    "\n",
    "# Create the parameter grid based on the results of random search \n",
    "param_grid = {\n",
    "    'max_features': ['auto','sqrt'],\n",
    "    'min_samples_leaf': [1,2,3, 4],\n",
    "    'min_samples_split': [2,4,6],\n",
    "    'n_estimators': [100,500,1000,2000],\n",
    "    'bootstrap': [True, False]\n",
    "}\n",
    "\n",
    "model_grid = GridSearchCV(model_grid, param_grid, cv=5)\n",
    "\n",
    "# Fit it to the training data\n",
    "model_grid.fit(X_train, y_train)\n",
    "\n",
    "# Predict the labels for the training data X: y_pred\n",
    "y_train_pred = model_grid.predict(X_train)\n",
    "\n",
    "# Predict and print the label for the new data point X_new\n",
    "y_holdout_pred = model_grid.predict(X_holdout)\n",
    "\n",
    "print(error(y_train, y_train_pred,'Train'))\n",
    "print(error(y_holdout, y_holdout_pred,'Holdout'))"
   ]
  },
  {
   "cell_type": "code",
   "execution_count": null,
   "metadata": {},
   "outputs": [],
   "source": []
  }
 ],
 "metadata": {
  "kernelspec": {
   "display_name": "Python 3",
   "language": "python",
   "name": "python3"
  },
  "language_info": {
   "codemirror_mode": {
    "name": "ipython",
    "version": 3
   },
   "file_extension": ".py",
   "mimetype": "text/x-python",
   "name": "python",
   "nbconvert_exporter": "python",
   "pygments_lexer": "ipython3",
   "version": "3.7.4"
  }
 },
 "nbformat": 4,
 "nbformat_minor": 4
}
